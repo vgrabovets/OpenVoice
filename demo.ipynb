{
 "cells": [
  {
   "cell_type": "code",
   "id": "e7d0b1e1-76c1-4ccd-afbc-30ec3b0e1b7a",
   "metadata": {},
   "source": [
    "import os\n",
    "import tempfile\n",
    "\n",
    "import torch\n",
    "from dotenv import load_dotenv\n",
    "from IPython.display import Audio, display\n",
    "from melo.api import TTS\n",
    "from path import Path\n",
    "\n",
    "from openvoice import se_extractor\n",
    "from openvoice.api import ToneColorConverter"
   ],
   "outputs": [],
   "execution_count": null
  },
  {
   "cell_type": "code",
   "id": "259edbaf-9c17-4032-9149-99895755a7ce",
   "metadata": {},
   "source": [
    "load_dotenv()\n",
    "ckpt_converter = 'checkpoints_v2/converter'\n",
    "device = \"cuda:0\" if torch.cuda.is_available() else \"cpu\"\n",
    "output_dir = Path(tempfile.gettempdir()) / 'outputs_v2'\n",
    "print(device)"
   ],
   "outputs": [],
   "execution_count": null
  },
  {
   "cell_type": "code",
   "id": "79727e72-8b03-409e-94c2-1d775b3c7a61",
   "metadata": {},
   "source": [
    "tone_color_converter = ToneColorConverter(f'{ckpt_converter}/config.json', device=device)\n",
    "tone_color_converter.load_ckpt(f'{ckpt_converter}/checkpoint.pth')\n",
    "os.makedirs(output_dir, exist_ok=True)"
   ],
   "outputs": [],
   "execution_count": null
  },
  {
   "cell_type": "code",
   "id": "6f794724-7774-493e-b4ad-6253cc0fb011",
   "metadata": {},
   "source": [
    "reference_speaker = os.getenv('REFERENCE_SPEAKER')\n",
    "if not reference_speaker:\n",
    "    raise ValueError('Specify reference speaker in .env file')\n",
    "target_se, _ = se_extractor.get_se(reference_speaker, tone_color_converter, vad=False)\n",
    "src_path = output_dir / 'tmp.wav'"
   ],
   "outputs": [],
   "execution_count": null
  },
  {
   "metadata": {},
   "cell_type": "code",
   "source": [
    "language = 'JP'  # EN_NEWEST, JP\n",
    "model = TTS(language=language, device=device)\n",
    "if len(model.hps.data.spk2id) > 1:\n",
    "    raise ValueError(f'There are several speaker ids: {model.hps.data.spk2id}')"
   ],
   "id": "b71ef3bec2ce79dc",
   "outputs": [],
   "execution_count": null
  },
  {
   "cell_type": "code",
   "id": "e6c9ab4a-2383-4dee-b2b0-54a64c174d17",
   "metadata": {},
   "source": [
    "text = \"が\"\n",
    "speaker_key = language.lower().replace('_', '-')\n",
    "\n",
    "source_se = torch.load(f'checkpoints_v2/base_speakers/ses/{speaker_key}.pth', map_location=device)\n",
    "model.tts_to_file(text, speaker_id=0, output_path=src_path, speed=1, sdp_ratio=0.2, quiet=True)\n",
    "save_path = output_dir / 'audio_with_cloned_voice.wav'\n",
    "\n",
    "tone_color_converter.convert(\n",
    "    audio_src_path=src_path,\n",
    "    src_se=source_se,\n",
    "    tgt_se=target_se,\n",
    "    output_path=save_path,\n",
    "    tau=0.5,\n",
    ")\n",
    "audio = Audio(save_path)\n",
    "display(audio)"
   ],
   "outputs": [],
   "execution_count": null
  },
  {
   "metadata": {},
   "cell_type": "code",
   "source": "",
   "id": "f8de222f6ac72430",
   "outputs": [],
   "execution_count": null
  }
 ],
 "metadata": {
  "kernelspec": {
   "display_name": "Python 3 (ipykernel)",
   "language": "python",
   "name": "python3"
  },
  "language_info": {
   "codemirror_mode": {
    "name": "ipython",
    "version": 3
   },
   "file_extension": ".py",
   "mimetype": "text/x-python",
   "name": "python",
   "nbconvert_exporter": "python",
   "pygments_lexer": "ipython3",
   "version": "3.9.20"
  }
 },
 "nbformat": 4,
 "nbformat_minor": 5
}
