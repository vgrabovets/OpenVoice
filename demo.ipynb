{
 "cells": [
  {
   "cell_type": "code",
   "id": "e7d0b1e1-76c1-4ccd-afbc-30ec3b0e1b7a",
   "metadata": {},
   "source": [
    "import os\n",
    "import torch\n",
    "from openvoice import se_extractor\n",
    "from openvoice.api import ToneColorConverter"
   ],
   "outputs": [],
   "execution_count": null
  },
  {
   "cell_type": "code",
   "id": "259edbaf-9c17-4032-9149-99895755a7ce",
   "metadata": {},
   "source": [
    "ckpt_converter = 'checkpoints_v2/converter'\n",
    "device = \"cuda:0\" if torch.cuda.is_available() else \"cpu\"\n",
    "output_dir = 'outputs_v2'\n",
    "print(device)"
   ],
   "outputs": [],
   "execution_count": null
  },
  {
   "cell_type": "code",
   "id": "79727e72-8b03-409e-94c2-1d775b3c7a61",
   "metadata": {},
   "source": [
    "tone_color_converter = ToneColorConverter(f'{ckpt_converter}/config.json', device=device)\n",
    "tone_color_converter.load_ckpt(f'{ckpt_converter}/checkpoint.pth')\n",
    "os.makedirs(output_dir, exist_ok=True)"
   ],
   "outputs": [],
   "execution_count": null
  },
  {
   "cell_type": "code",
   "id": "6f794724-7774-493e-b4ad-6253cc0fb011",
   "metadata": {},
   "source": [
    "reference_speaker = '/media/vitaliy/Samsung_T5/terebi-languages/assets/presenters/other/Japanese_Female_TianDianLunZi.mp3'\n",
    "target_se, audio_name = se_extractor.get_se(reference_speaker, tone_color_converter, vad=False)"
   ],
   "outputs": [],
   "execution_count": null
  },
  {
   "cell_type": "code",
   "id": "65cf3ec7-995e-4a04-9402-1f7a8719d8b2",
   "metadata": {},
   "source": [
    "from melo.api import TTS"
   ],
   "outputs": [],
   "execution_count": null
  },
  {
   "cell_type": "code",
   "id": "8c2fb1b1-8d7c-4203-96d3-d5df28027d68",
   "metadata": {},
   "source": [
    "texts = {\n",
    "    # 'EN_NEWEST': \"But I believe that humanity can come together and hold hands, Kokoro.\",  # The newest English base speaker model\n",
    "    # 'EN': \"But I believe that humanity can come together and hold hands, Kokoro.\",\n",
    "    'JP': \"結局\",\n",
    "}\n",
    "src_path = f'{output_dir}/tmp.wav'\n",
    "speed = 1.0"
   ],
   "outputs": [],
   "execution_count": null
  },
  {
   "cell_type": "code",
   "id": "e6c9ab4a-2383-4dee-b2b0-54a64c174d17",
   "metadata": {},
   "source": [
    "for language, text in texts.items():\n",
    "    model = TTS(language=language, device=device)\n",
    "    speaker_ids = model.hps.data.spk2id\n",
    "    \n",
    "    for speaker_key in speaker_ids.keys():\n",
    "        speaker_id = speaker_ids[speaker_key]\n",
    "        speaker_key = speaker_key.lower().replace('_', '-')\n",
    "        \n",
    "        source_se = torch.load(f'checkpoints_v2/base_speakers/ses/{speaker_key}.pth', map_location=device)\n",
    "        model.tts_to_file(text, speaker_id, src_path, speed=speed, sdp_ratio=0.5)\n",
    "        save_path = f'{output_dir}/output_v2_{speaker_key}.wav'\n",
    "\n",
    "        # Run the tone color converter\n",
    "        encode_message = \"@MyShell\"\n",
    "        tone_color_converter.convert(\n",
    "            audio_src_path=src_path, \n",
    "            src_se=source_se, \n",
    "            tgt_se=target_se, \n",
    "            output_path=save_path,\n",
    "            message=encode_message, tau=0.5)"
   ],
   "outputs": [],
   "execution_count": null
  }
 ],
 "metadata": {
  "kernelspec": {
   "display_name": "Python 3 (ipykernel)",
   "language": "python",
   "name": "python3"
  },
  "language_info": {
   "codemirror_mode": {
    "name": "ipython",
    "version": 3
   },
   "file_extension": ".py",
   "mimetype": "text/x-python",
   "name": "python",
   "nbconvert_exporter": "python",
   "pygments_lexer": "ipython3",
   "version": "3.9.20"
  }
 },
 "nbformat": 4,
 "nbformat_minor": 5
}
